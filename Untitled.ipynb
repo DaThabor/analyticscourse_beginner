{
 "cells": [
  {
   "cell_type": "markdown",
   "metadata": {},
   "source": [
    "![](week2.png)\n",
    "\n",
    "----------\n",
    "\n",
    "<h1><center>PROGRAM THIS WEEK</center></h1>\n",
    "\n",
    "<body><center>1. Learn what descriptive analysis is</center></body>\n",
    "<body><center>2. Use the data set to get our first descriptive summary</center></body>\n",
    "\n",
    "<h2><center>Descriptive Analysis</center></h2>"
   ]
  },
  {
   "cell_type": "code",
   "execution_count": 1,
   "metadata": {},
   "outputs": [],
   "source": [
    "# Install a pip package in the current Jupyter kernel\n",
    "import numpy"
   ]
  },
  {
   "cell_type": "code",
   "execution_count": null,
   "metadata": {},
   "outputs": [],
   "source": []
  }
 ],
 "metadata": {
  "kernelspec": {
   "display_name": "Python 3",
   "language": "python",
   "name": "python3"
  },
  "language_info": {
   "codemirror_mode": {
    "name": "ipython",
    "version": 3
   },
   "file_extension": ".py",
   "mimetype": "text/x-python",
   "name": "python",
   "nbconvert_exporter": "python",
   "pygments_lexer": "ipython3",
   "version": "3.6.5"
  }
 },
 "nbformat": 4,
 "nbformat_minor": 2
}
